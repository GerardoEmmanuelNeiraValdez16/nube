{
  "nbformat": 4,
  "nbformat_minor": 0,
  "metadata": {
    "colab": {
      "provenance": [],
      "authorship_tag": "ABX9TyMc7JOB3DDhYeyodKIeZ8tD",
      "include_colab_link": true
    },
    "kernelspec": {
      "name": "python3",
      "display_name": "Python 3"
    },
    "language_info": {
      "name": "python"
    }
  },
  "cells": [
    {
      "cell_type": "markdown",
      "metadata": {
        "id": "view-in-github",
        "colab_type": "text"
      },
      "source": [
        "<a href=\"https://colab.research.google.com/github/GerardoEmmanuelNeiraValdez16/nube/blob/main/1_2_Introduccion_python.ipynb\" target=\"_parent\"><img src=\"https://colab.research.google.com/assets/colab-badge.svg\" alt=\"Open In Colab\"/></a>"
      ]
    },
    {
      "cell_type": "markdown",
      "source": [
        "# CLASES Y OBJETOS\n",
        "\n",
        "¿Cómo escribimos nuestros propios objetos personalizados? La respuesta está en una simple palabra: **clases.**\n",
        "Los **objetos** son, de hecho, instancias de clases. La belleza de Python es que las clases son objetos en sí mismas, pero no sigamos este camino. Conduce a uno de los conceptos más avanzados de este lenguaje: las metaclases. Por ahora, la mejor manera de entender la diferencia entre clases y objetos es mediante un ejemplo.\n"
      ],
      "metadata": {
        "id": "CbAfx1XQ3wri"
      }
    },
    {
      "cell_type": "code",
      "execution_count": 86,
      "metadata": {
        "id": "UqpiJIwaFQ3f",
        "colab": {
          "base_uri": "https://localhost:8080/"
        },
        "outputId": "4b981004-b9ca-4f76-9219-4b61b5d3f362"
      },
      "outputs": [
        {
          "output_type": "stream",
          "name": "stdout",
          "text": [
            "Red\n",
            "Carbon fiber\n",
            "Blue\n",
            "Steel\n"
          ]
        }
      ],
      "source": [
        "from typing_extensions import Self\n",
        "class Bike:\n",
        "  def __init__(self, colour, frame_material):\n",
        "    self.colour = colour\n",
        "    self.frame_material = frame_material\n",
        "\n",
        "    def brake(self):\n",
        "      print(\"Braking!\")\n",
        "\n",
        "# let's create a couple of instances\n",
        "red_bike = Bike('Red', 'Carbon fiber')\n",
        "blue_bike = Bike('Blue', 'Steel')\n",
        "\n",
        "# let's inspect the objects we have, instances of the Bike class.\n",
        "print(red_bike.colour) # prints: Red\n",
        "print(red_bike.frame_material) # prints: Carbon fiber\n",
        "print(blue_bike.colour) # prints: Blue\n",
        "print(blue_bike.frame_material) # prints: Steel\n"
      ]
    },
    {
      "cell_type": "markdown",
      "source": [
        "# TODO ES UN OBJETO.\n",
        "# Mutable or immutable? That is the question.\n",
        "La primera distinción fundamental que hace Python sobre los datos es si el valor de un objeto puede cambiar o no. Si el valor puede cambiar, el objeto se llama mutable, mientras que si el valor no puede cambiar, el objeto se llama inmutable."
      ],
      "metadata": {
        "id": "tQerWadV56Ee"
      }
    },
    {
      "cell_type": "code",
      "source": [
        "# Declaramos la edad de 42 y es la que imprime\n",
        "age = 42\n",
        "age\n",
        "# Al declarar otro valor de edad adopta ese nuevo valor y lo imprime\n",
        "age = 43\n",
        "age"
      ],
      "metadata": {
        "colab": {
          "base_uri": "https://localhost:8080/"
        },
        "id": "a5Z6TLhn70_H",
        "outputId": "235cadf0-889a-4259-b237-2001124d268e"
      },
      "execution_count": 14,
      "outputs": [
        {
          "output_type": "execute_result",
          "data": {
            "text/plain": [
              "43"
            ]
          },
          "metadata": {},
          "execution_count": 14
        }
      ]
    },
    {
      "cell_type": "code",
      "source": [
        "age = 42\n",
        "id(age)\n",
        "#136740297311760 valor de la primera edad con su id\n",
        "age = 43\n",
        "id(age)\n",
        "# Nuevamente cambia el resultado si cambias la variable en este caso la edad"
      ],
      "metadata": {
        "colab": {
          "base_uri": "https://localhost:8080/"
        },
        "id": "jNtQQa_48fiV",
        "outputId": "e2bb1641-7830-43e2-b065-39bfc1952bcf"
      },
      "execution_count": 18,
      "outputs": [
        {
          "output_type": "execute_result",
          "data": {
            "text/plain": [
              "136740297311792"
            ]
          },
          "metadata": {},
          "execution_count": 18
        }
      ]
    },
    {
      "cell_type": "code",
      "source": [
        "class Person:\n",
        "  def __init__(self, age):\n",
        "    self.age = age\n",
        "\n",
        "fab = Person(age=42)\n",
        "fab.age\n",
        "#42\n",
        "\n",
        "#id(fab)\n",
        "#136739026226624\n",
        "\n",
        "#id(fab.age)\n",
        "#136740297311760\n",
        "\n",
        "#fab.age = 25\n",
        "#id(fab)\n",
        "#136739026238864\n",
        "\n",
        "#id(fab.age)\n",
        "#136740297311216"
      ],
      "metadata": {
        "colab": {
          "base_uri": "https://localhost:8080/"
        },
        "id": "z-D9bocU9NX4",
        "outputId": "aeaa3c03-3a0f-4f2a-a379-fdf79809263a"
      },
      "execution_count": 39,
      "outputs": [
        {
          "output_type": "execute_result",
          "data": {
            "text/plain": [
              "42"
            ]
          },
          "metadata": {},
          "execution_count": 39
        }
      ]
    },
    {
      "cell_type": "markdown",
      "source": [
        "# Números enteros\n",
        "\n",
        "Comencemos explorando los tipos de datos integrados de Python para números. Python fue diseñado por un hombre con una maestría en matemáticas e informática, por lo que es lógico que tenga un soporte sorprendente para los números.\n",
        "Los números son objetos inmutables.\n",
        "Los integers de Python tienen un rango ilimitado, sujeto únicamente a la memoria virtual disponible. Esto significa que realmente no importa qué tan grande sea el número que quiera almacenar; siempre que quepa en la memoria de su computadora, Python se encargará de ello."
      ],
      "metadata": {
        "id": "cQ1mvdCuGMsb"
      }
    },
    {
      "cell_type": "code",
      "source": [
        "# declaramos las variables a y b y le damos un valor\n",
        "a = 14\n",
        "b = 3\n",
        "#a + b # suma\n",
        "#17 Respuesta\n",
        "\n",
        "#a - b # resta\n",
        "#11\n",
        "\n",
        "\n",
        "#a * b # multiplicación\n",
        "#42\n",
        "\n",
        "#a / b # division\n",
        "#4.666666666666667\n",
        "\n",
        "#a // b # division entera\n",
        "#4\n",
        "\n",
        "#a % b # resto de la division\n",
        "#2\n",
        "\n",
        "#a ** b # potencia\n",
        "#2744"
      ],
      "metadata": {
        "colab": {
          "base_uri": "https://localhost:8080/"
        },
        "id": "cZdEq69DGUm0",
        "outputId": "bd30e9a2-aaba-49e5-f05c-b607cb5b2e11"
      },
      "execution_count": 41,
      "outputs": [
        {
          "output_type": "execute_result",
          "data": {
            "text/plain": [
              "4"
            ]
          },
          "metadata": {},
          "execution_count": 41
        }
      ]
    },
    {
      "cell_type": "code",
      "source": [
        "#declaramos valores de power oparator\n",
        "pow(10, 3)\n",
        "1000.0\n",
        "\n",
        "#10 ** 3\n",
        "#1000\n",
        "\n",
        "#pow(10, -3)\n",
        "#0.001\n",
        "\n",
        "10 ** -3\n",
        "#0.001"
      ],
      "metadata": {
        "colab": {
          "base_uri": "https://localhost:8080/"
        },
        "id": "FtlTELhLKPRj",
        "outputId": "4920a9c7-f05e-49e6-fac0-8c7d9a36e0a2"
      },
      "execution_count": 43,
      "outputs": [
        {
          "output_type": "execute_result",
          "data": {
            "text/plain": [
              "0.001"
            ]
          },
          "metadata": {},
          "execution_count": 43
        }
      ]
    },
    {
      "cell_type": "markdown",
      "source": [
        "# Booleanos\n",
        "\n",
        "El álgebra booleana es ese subconjunto del álgebra en el que los valores de las variables son los valores, true y false. En Python, true y False son dos palabras clave que se utilizan para representar valores de verdad. Los booleanos son una subclase de números enteros, por lo que true y False se comportan respectivamente como 1 y 0. El equivalente de la clase int para los booleanos es la clase bool, que devuelve true o False. Cada objeto Python integrado tiene un valor en el contexto booleano, lo que significa que básicamente se evalúan como Verdadero o Falso cuando se introducen en la función booleana.\n",
        "Los valores booleanos se pueden combinar en expresiones booleanas utilizando los operadores lógicos.\n",
        "and, or, y not."
      ],
      "metadata": {
        "id": "LvPGBEDWLKtq"
      }
    },
    {
      "cell_type": "code",
      "source": [
        "#true equivale a 1\n",
        "1 + True\n",
        "#2\n",
        "\n",
        "# false equivale a 0\n",
        "#False + 42\n",
        "#42\n",
        "\n",
        "#7 - True\n",
        "#6"
      ],
      "metadata": {
        "colab": {
          "base_uri": "https://localhost:8080/"
        },
        "id": "t9M2-SfYL5Se",
        "outputId": "42f83912-8206-4759-b222-84346edfe138"
      },
      "execution_count": 44,
      "outputs": [
        {
          "output_type": "execute_result",
          "data": {
            "text/plain": [
              "2"
            ]
          },
          "metadata": {},
          "execution_count": 44
        }
      ]
    },
    {
      "cell_type": "markdown",
      "source": [
        "# Números reales\n",
        "Los números reales, o números de coma flotante, se representan en Python según el formato binario de coma flotante de doble precisión."
      ],
      "metadata": {
        "id": "hHRuVtgVMgsz"
      }
    },
    {
      "cell_type": "code",
      "source": [
        "pi = 3.1416 # valor de pi\n",
        "radio = 4.5 # valor de un costado hasta el centro\n",
        "area = pi * (radio ** 2) # formula del circulo\n",
        "area"
      ],
      "metadata": {
        "colab": {
          "base_uri": "https://localhost:8080/"
        },
        "id": "p20v8R41NIPf",
        "outputId": "b1dbe967-b767-49bb-c9d7-6d4e3b41ba80"
      },
      "execution_count": 45,
      "outputs": [
        {
          "output_type": "execute_result",
          "data": {
            "text/plain": [
              "63.617251235400005"
            ]
          },
          "metadata": {},
          "execution_count": 45
        }
      ]
    },
    {
      "cell_type": "markdown",
      "source": [
        "# Fracciones y decimales\n"
      ],
      "metadata": {
        "id": "ZpdCJozbNxfK"
      }
    },
    {
      "cell_type": "code",
      "source": [
        "from fractions import Fraction\n",
        "Fraction(10, 6) #Se le da el valor al numerador y al denominador\n",
        "#Fraction(5, 3) # 5/3 resultado simplificado\n",
        "\n",
        "#Fraction(1, 3) + Fraction(2, 3) # 1/3 + 2/3 == 3/3 == 1/1\n",
        "#Fraction(1, 1) o 1 entero\n",
        "\n",
        "#f = Fraction(10, 6)\n",
        "#f.numerator\n",
        "#5\n",
        "#f.denominator\n",
        "#3"
      ],
      "metadata": {
        "colab": {
          "base_uri": "https://localhost:8080/"
        },
        "id": "oFVr1WcdOafO",
        "outputId": "5c6c024c-85c3-45da-da52-3a40368edd6d"
      },
      "execution_count": 47,
      "outputs": [
        {
          "output_type": "execute_result",
          "data": {
            "text/plain": [
              "Fraction(5, 3)"
            ]
          },
          "metadata": {},
          "execution_count": 47
        }
      ]
    },
    {
      "cell_type": "code",
      "source": [
        "from decimal import Decimal as D\n",
        "D(3.14) # decimal que se solicitó\n",
        "#Decimal('3.140000000000000124344978758017532527446746826171875')"
      ],
      "metadata": {
        "colab": {
          "base_uri": "https://localhost:8080/"
        },
        "id": "UiYvLStfPc-M",
        "outputId": "44f0ad2f-584e-40e6-ca71-14642e22c472"
      },
      "execution_count": 49,
      "outputs": [
        {
          "output_type": "execute_result",
          "data": {
            "text/plain": [
              "Decimal('3.140000000000000124344978758017532527446746826171875')"
            ]
          },
          "metadata": {},
          "execution_count": 49
        }
      ]
    },
    {
      "cell_type": "markdown",
      "source": [
        "# Listas\n",
        "Las listas se utilizan comúnmente para almacenar colecciones de objetos homogéneos, pero no hay nada que impida almacenar también colecciones heterogéneas. Las listas se pueden crear de muchas maneras diferentes."
      ],
      "metadata": {
        "id": "FElJLjDDQmmb"
      }
    },
    {
      "cell_type": "code",
      "source": [
        "# x+5 es una operacion pero x tomará los valores que estan dentro de los corchetes y asi se realizara la suma de una lista que en este caso dará resultado otra lista.\n",
        "#[x + 5 for x in [2, 3, 4]]\n",
        "#[7, 8, 9]\n",
        "\n",
        "#list((1, 3, 5, 7, 9)) #lista de una tupla\n",
        "#[1, 3, 5, 7, 9]\n",
        "\n",
        "list('hello') # lista de una palabra\n",
        "#['h', 'e', 'l', 'l', 'o']"
      ],
      "metadata": {
        "colab": {
          "base_uri": "https://localhost:8080/"
        },
        "id": "A7ZqXoN9Q26J",
        "outputId": "b3dd00cf-2fc6-4172-99ab-6fdb89789a9e"
      },
      "execution_count": 50,
      "outputs": [
        {
          "output_type": "execute_result",
          "data": {
            "text/plain": [
              "['h', 'e', 'l', 'l', 'o']"
            ]
          },
          "metadata": {},
          "execution_count": 50
        }
      ]
    },
    {
      "cell_type": "code",
      "source": [
        "a = list('hello') # lista de una palabra\n",
        "#a\n",
        "#['h', 'e', 'l', 'l', 'o']\n",
        "#a.append(100) # append es para agregar un valor heterogeneo\n",
        "#a\n",
        "#['h', 'e', 'l', 'l', 'o', 100]\n",
        "#a.extend((1, 2, 3)) # se agrega un valor int o string\n",
        "#a\n",
        "#['h', 'e', 'l', 'l', 'o', 100, 1, 2, 3]\n",
        "a.extend('...')\n",
        "a\n",
        "#['h', 'e', 'l', 'l', 'o', 100, 1, 2, 3, '.', '.', '.']"
      ],
      "metadata": {
        "colab": {
          "base_uri": "https://localhost:8080/"
        },
        "id": "4g8HUfuVSFlH",
        "outputId": "2749e146-dc45-4324-dba0-7a8b17c81122"
      },
      "execution_count": 52,
      "outputs": [
        {
          "output_type": "execute_result",
          "data": {
            "text/plain": [
              "['h', 'e', 'l', 'l', 'o', '.', '.', '.']"
            ]
          },
          "metadata": {},
          "execution_count": 52
        }
      ]
    },
    {
      "cell_type": "markdown",
      "source": [
        "# Fecha y hora"
      ],
      "metadata": {
        "id": "SR7hLjM1S4Js"
      }
    },
    {
      "cell_type": "code",
      "source": [
        "from datetime import date, datetime, timedelta, timezone\n",
        "import time\n",
        "import calendar as cal\n",
        "from zoneinfo import ZoneInfo\n",
        "\n",
        "today = date.today()\n",
        "#today\n",
        "#datetime.date(2021, 3, 28)\n",
        "today.ctime()\n",
        "#'Sun Mar 28 00:00:00 2021'\n",
        "time.localtime()\n",
        "#time.struct_time(\n",
        "#tm_year=2021, tm_mon=3, tm_mday=28,\n",
        "#tm_hour=15, tm_min=23, tm_sec=50,\n",
        "#tm_wday=6, tm_yday=87, tm_isdst=1\n",
        "#)"
      ],
      "metadata": {
        "colab": {
          "base_uri": "https://localhost:8080/"
        },
        "id": "PPeqP24lTkpb",
        "outputId": "750c31f5-d25e-437b-a6f8-975e39f5bf9a"
      },
      "execution_count": 61,
      "outputs": [
        {
          "output_type": "execute_result",
          "data": {
            "text/plain": [
              "time.struct_time(tm_year=2023, tm_mon=9, tm_mday=13, tm_hour=16, tm_min=13, tm_sec=41, tm_wday=2, tm_yday=256, tm_isdst=0)"
            ]
          },
          "metadata": {},
          "execution_count": 61
        }
      ]
    },
    {
      "cell_type": "markdown",
      "source": [
        "# Loop\n",
        "El bucle for se utiliza cuando se recorre una secuencia, como una lista, tupla o colección de objetos."
      ],
      "metadata": {
        "id": "P7p9dGhTVTT3"
      }
    },
    {
      "cell_type": "code",
      "source": [
        "#for number in [0, 1, 2, 3, 4]:\n",
        "  #print(number)\n",
        "\n",
        "\n",
        "#for number in range(8):\n",
        "  #print(\"----\")\n",
        "  #print(number)\n",
        "\n",
        "list(range(17)) # Rango de hasta que numero llegara la lista empezando en el 0 y termina en el 16\n",
        "list(range(3, 11)) # rango para que imprima la lista que empiece en el 3 y termine antes del 11\n"
      ],
      "metadata": {
        "colab": {
          "base_uri": "https://localhost:8080/"
        },
        "id": "psnwIENTYUhB",
        "outputId": "01bef356-5550-4f95-f5ed-c5533eb38adf"
      },
      "execution_count": 85,
      "outputs": [
        {
          "output_type": "execute_result",
          "data": {
            "text/plain": [
              "[3, 4, 5, 6, 7, 8, 9, 10]"
            ]
          },
          "metadata": {},
          "execution_count": 85
        }
      ]
    },
    {
      "cell_type": "markdown",
      "source": [
        "# Argumentos de palabras clave"
      ],
      "metadata": {
        "id": "cuaCDUFtVh5Y"
      }
    },
    {
      "cell_type": "code",
      "source": [
        "def func(a, b, c): #definimos variables\n",
        "  print(a, b, c)\n",
        "\n",
        "func(a=1, c=2, b=3)# damos valor a las variables para que el print las imprima"
      ],
      "metadata": {
        "colab": {
          "base_uri": "https://localhost:8080/"
        },
        "id": "WvkT-ghXVnUH",
        "outputId": "f25322e7-a452-4aaa-b8af-cc51c5ae6a67"
      },
      "execution_count": 74,
      "outputs": [
        {
          "output_type": "stream",
          "name": "stdout",
          "text": [
            "1 3 2\n"
          ]
        }
      ]
    }
  ]
}